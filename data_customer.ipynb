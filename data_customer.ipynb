{
 "cells": [
  {
   "cell_type": "code",
   "execution_count": 1,
   "id": "5a536944-55e7-4f7d-8886-deb7f0866613",
   "metadata": {},
   "outputs": [],
   "source": [
    "# Objetivo: detectar qué productos son los más comprados por ciertos grupos etarios.\n",
    "# Subgrupos 18–24, 25–30, 31–35 , 35-99"
   ]
  },
  {
   "cell_type": "markdown",
   "id": "007384ae-f6d6-4511-bb06-71b94546dd34",
   "metadata": {},
   "source": [
    "<h4>1.Fase de Análisis exploratorio</h4>"
   ]
  },
  {
   "cell_type": "code",
   "execution_count": 1,
   "id": "6a626f45-6ed3-40ea-958f-1cb5165d729a",
   "metadata": {},
   "outputs": [],
   "source": [
    "import pandas as pd\n",
    "import numpy as np\n",
    "import seaborn as sns\n",
    "import matplotlib.pyplot as plt\n",
    "from sklearn.preprocessing import StandardScaler\n",
    "from sklearn.model_selection import train_test_split\n",
    "from sklearn.tree import DecisionTreeClassifier"
   ]
  },
  {
   "cell_type": "code",
   "execution_count": 2,
   "id": "3b0d1cb0-8048-424b-9abb-0cf56859001d",
   "metadata": {},
   "outputs": [],
   "source": [
    "df_customer = pd.read_csv('https://raw.githubusercontent.com/micaelakorol21/datasets/refs/heads/main/customer_data.csv')"
   ]
  },
  {
   "cell_type": "code",
   "execution_count": 3,
   "id": "cb620a7b-2157-4ac7-abaa-25a5861e3b43",
   "metadata": {},
   "outputs": [
    {
     "data": {
      "text/plain": [
       "(100000, 12)"
      ]
     },
     "execution_count": 3,
     "metadata": {},
     "output_type": "execute_result"
    }
   ],
   "source": [
    "df_customer.shape"
   ]
  },
  {
   "cell_type": "code",
   "execution_count": 4,
   "id": "c229e523-fb69-48bf-be93-43eb732158c9",
   "metadata": {},
   "outputs": [],
   "source": [
    "# Renombramos las columnas:\n",
    "\n",
    "df_customer.columns = [\n",
    "    'id',\n",
    "    'edad',\n",
    "    'genero',\n",
    "    'ingresos',\n",
    "    'educacion',\n",
    "    'region',\n",
    "    'fidelidad',\n",
    "    'frecuencia_compra',\n",
    "    'importe_compra',\n",
    "    'categoria_producto',\n",
    "    'cupon_promocion',\n",
    "    'satisfaccion'\n",
    "]\n"
   ]
  },
  {
   "cell_type": "code",
   "execution_count": 5,
   "id": "9f140487-42ad-4f83-a07f-b1217d86f322",
   "metadata": {},
   "outputs": [
    {
     "data": {
      "text/plain": [
       "id                    0\n",
       "edad                  0\n",
       "genero                0\n",
       "ingresos              0\n",
       "educacion             0\n",
       "region                0\n",
       "fidelidad             0\n",
       "frecuencia_compra     0\n",
       "importe_compra        0\n",
       "categoria_producto    0\n",
       "cupon_promocion       0\n",
       "satisfaccion          0\n",
       "dtype: int64"
      ]
     },
     "execution_count": 5,
     "metadata": {},
     "output_type": "execute_result"
    }
   ],
   "source": [
    "df_customer.isna().sum()"
   ]
  },
  {
   "cell_type": "code",
   "execution_count": 6,
   "id": "c3b68db4-9434-4f2c-95bc-94eb4bc81a3c",
   "metadata": {},
   "outputs": [
    {
     "data": {
      "text/plain": [
       "id                     int64\n",
       "edad                   int64\n",
       "genero                object\n",
       "ingresos               int64\n",
       "educacion             object\n",
       "region                object\n",
       "fidelidad             object\n",
       "frecuencia_compra     object\n",
       "importe_compra         int64\n",
       "categoria_producto    object\n",
       "cupon_promocion        int64\n",
       "satisfaccion           int64\n",
       "dtype: object"
      ]
     },
     "execution_count": 6,
     "metadata": {},
     "output_type": "execute_result"
    }
   ],
   "source": [
    "df_customer.dtypes"
   ]
  },
  {
   "cell_type": "code",
   "execution_count": 7,
   "id": "9c5a9850-d374-4309-8cb2-b38097bfe243",
   "metadata": {},
   "outputs": [
    {
     "data": {
      "text/plain": [
       "count    100000.000000\n",
       "mean      27516.269880\n",
       "std       12996.782587\n",
       "min        5000.000000\n",
       "25%       16271.750000\n",
       "50%       27584.500000\n",
       "75%       38747.250000\n",
       "max       50000.000000\n",
       "Name: ingresos, dtype: float64"
      ]
     },
     "execution_count": 7,
     "metadata": {},
     "output_type": "execute_result"
    }
   ],
   "source": [
    "# Observamos el promedio de ingreso:\n",
    "df_customer['ingresos'].describe()"
   ]
  },
  {
   "cell_type": "code",
   "execution_count": 8,
   "id": "22464ee1-980b-4177-9004-db0c72e75b36",
   "metadata": {},
   "outputs": [
    {
     "data": {
      "text/plain": [
       "genero\n",
       "Female    9634.404601\n",
       "Male      9635.178224\n",
       "Name: importe_compra, dtype: float64"
      ]
     },
     "execution_count": 8,
     "metadata": {},
     "output_type": "execute_result"
    }
   ],
   "source": [
    "# Importe de la compra promedio entre hombres y mujeres:\n",
    "df_customer.groupby(\"genero\")[\"importe_compra\"].mean()"
   ]
  },
  {
   "cell_type": "code",
   "execution_count": 113,
   "id": "35970481-121c-4276-b5a0-982efd2693e5",
   "metadata": {},
   "outputs": [
    {
     "data": {
      "text/plain": [
       "categoria_producto\n",
       "Beauty         9714.333201\n",
       "Books          9594.366514\n",
       "Clothing       9634.118447\n",
       "Electronics    9646.397436\n",
       "Food           9667.944471\n",
       "Health         9611.869117\n",
       "Home           9538.549585\n",
       "Name: importe_compra, dtype: float64"
      ]
     },
     "execution_count": 113,
     "metadata": {},
     "output_type": "execute_result"
    }
   ],
   "source": [
    "# Categorias mas vendidas\n",
    "df_customer.groupby(\"categoria_producto\")[\"importe_compra\"].mean()"
   ]
  },
  {
   "cell_type": "code",
   "execution_count": 115,
   "id": "696d7e91-824f-4dc7-b210-4aab8e148042",
   "metadata": {},
   "outputs": [
    {
     "data": {
      "text/plain": [
       "categoria_producto\n",
       "Electronics    29957\n",
       "Clothing       19933\n",
       "Books          14878\n",
       "Food           14785\n",
       "Health         10093\n",
       "Home            5062\n",
       "Beauty          5024\n",
       "Name: count, dtype: int64"
      ]
     },
     "execution_count": 115,
     "metadata": {},
     "output_type": "execute_result"
    }
   ],
   "source": [
    "# Cuantas categorias hay:\n",
    "df_customer['categoria_producto'].value_counts()"
   ]
  },
  {
   "cell_type": "code",
   "execution_count": 117,
   "id": "d82aa7a7-9deb-4a31-9410-c9e598db56bc",
   "metadata": {},
   "outputs": [
    {
     "data": {
      "image/png": "[encoded data removed]",
      "text/plain": [
       "<Figure size 800x400 with 1 Axes>"
      ]
     },
     "metadata": {},
     "output_type": "display_data"
    }
   ],
   "source": [
    "sns.set(style=\"whitegrid\")\n",
    "\n",
    "# Boxplot de edad\n",
    "plt.figure(figsize=(8, 4))\n",
    "sns.boxplot(x=df_customer[\"edad\"], color=\"skyblue\")\n",
    "plt.title(\"Boxplot de Edad\")\n",
    "plt.xlabel(\"Edad\")\n",
    "plt.show()"
   ]
  },
  {
   "cell_type": "code",
   "execution_count": 121,
   "id": "76d119cb-8965-4dff-acf4-5e55bf97f17e",
   "metadata": {},
   "outputs": [
    {
     "data": {
      "text/plain": [
       "count    99732.000000\n",
       "mean        30.040348\n",
       "std          4.428634\n",
       "min         18.000000\n",
       "25%         27.000000\n",
       "50%         30.000000\n",
       "75%         33.000000\n",
       "max         49.000000\n",
       "Name: edad, dtype: float64"
      ]
     },
     "execution_count": 121,
     "metadata": {},
     "output_type": "execute_result"
    }
   ],
   "source": [
    "df_customer['edad'].describe()"
   ]
  },
  {
   "cell_type": "code",
   "execution_count": null,
   "id": "6beb0e78-f6be-44f1-aeb7-383808f956d1",
   "metadata": {},
   "outputs": [],
   "source": [
    "# Eliminamos los menores de 18 años, ya qye nuestro análisis se centra > 18 hasta 99 años."
   ]
  },
  {
   "cell_type": "code",
   "execution_count": 123,
   "id": "8d19beec-35aa-4126-9913-a50e9ec462ec",
   "metadata": {},
   "outputs": [],
   "source": [
    "df_customer = df_customer[df_customer['edad'] >= 18]"
   ]
  },
  {
   "cell_type": "code",
   "execution_count": 125,
   "id": "27f66145-2f2c-4097-ba54-514f7164d8cd",
   "metadata": {},
   "outputs": [
    {
     "data": {
      "image/png": "[encoded data removed]",
      "text/plain": [
       "<Figure size 640x480 with 1 Axes>"
      ]
     },
     "metadata": {},
     "output_type": "display_data"
    }
   ],
   "source": [
    "sns.boxplot(x=df_customer[\"edad\"], color=\"orange\")\n",
    "plt.title(\"Boxplot de Edad (filtrando menores)\")\n",
    "plt.show()"
   ]
  },
  {
   "cell_type": "markdown",
   "id": "e19c1729-b275-4a8d-8933-4a906919afff",
   "metadata": {},
   "source": [
    "<h4>Analizamos la columna gender: </h4>"
   ]
  },
  {
   "cell_type": "code",
   "execution_count": 127,
   "id": "e494e2d3-6062-41eb-8735-6ac61a8da592",
   "metadata": {},
   "outputs": [
    {
     "data": {
      "text/plain": [
       "genero\n",
       "Female    49953\n",
       "Male      49779\n",
       "Name: count, dtype: int64"
      ]
     },
     "execution_count": 127,
     "metadata": {},
     "output_type": "execute_result"
    }
   ],
   "source": [
    "# Cuántos registros hay de cada género:\n",
    "df_customer['genero'].value_counts()"
   ]
  },
  {
   "cell_type": "code",
   "execution_count": 129,
   "id": "165765e6-254b-4851-b9d8-0beb4cb231c1",
   "metadata": {},
   "outputs": [
    {
     "data": {
      "text/plain": [
       "genero\n",
       "Female    50.087234\n",
       "Male      49.912766\n",
       "Name: proportion, dtype: float64"
      ]
     },
     "execution_count": 129,
     "metadata": {},
     "output_type": "execute_result"
    }
   ],
   "source": [
    "# Porcentaje de representación de cada género:\n",
    "df_customer['genero'].value_counts(normalize=True) * 100"
   ]
  },
  {
   "cell_type": "code",
   "execution_count": 55,
   "id": "e10de60e-f556-4ed9-a930-aa61aa56e97c",
   "metadata": {},
   "outputs": [
    {
     "data": {
      "text/plain": [
       "gender\n",
       "Female    9633.442896\n",
       "Male      9634.217742\n",
       "Name: purchase_amount, dtype: float64"
      ]
     },
     "execution_count": 55,
     "metadata": {},
     "output_type": "execute_result"
    }
   ],
   "source": [
    "# Gasto promedio por género:\n",
    "df_customer.groupby('gender')['purchase_amount'].mean()"
   ]
  },
  {
   "cell_type": "code",
   "execution_count": 131,
   "id": "46c0b8c0-0a3a-4d17-bd60-2ee3457d7afe",
   "metadata": {},
   "outputs": [
    {
     "data": {
      "text/plain": [
       "<Axes: xlabel='genero', ylabel='importe_compra'>"
      ]
     },
     "execution_count": 131,
     "metadata": {},
     "output_type": "execute_result"
    },
    {
     "data": {
      "image/png": "[encoded data removed]",
      "text/plain": [
       "<Figure size 640x480 with 1 Axes>"
      ]
     },
     "metadata": {},
     "output_type": "display_data"
    }
   ],
   "source": [
    "sns.boxplot(data=df_customer, x='genero', y='importe_compra')"
   ]
  },
  {
   "cell_type": "code",
   "execution_count": null,
   "id": "8327e7f5-3046-404a-9d5d-c1ab5c00bf2e",
   "metadata": {},
   "outputs": [],
   "source": [
    "# El 25% de los compradores, gastó $6000 aprox.\n",
    "# El 50% de los compradores, gastó 9500 aprox.\n",
    "# El otro 25% gastó 13.500 aprox. El 75% de los compradores, gastó menos que Q3."
   ]
  },
  {
   "cell_type": "code",
   "execution_count": 133,
   "id": "a1f69d33-7d47-4a24-b015-ec68ae919c36",
   "metadata": {},
   "outputs": [
    {
     "data": {
      "text/plain": [
       "genero  frecuencia_compra\n",
       "Female  rare                 0.500951\n",
       "        occasional           0.298140\n",
       "        frequent             0.200909\n",
       "Male    rare                 0.499427\n",
       "        occasional           0.299564\n",
       "        frequent             0.201008\n",
       "Name: proportion, dtype: float64"
      ]
     },
     "execution_count": 133,
     "metadata": {},
     "output_type": "execute_result"
    }
   ],
   "source": [
    "# Frecuencia de compra por género\n",
    "df_customer.groupby('genero')['frecuencia_compra'].value_counts(normalize=True)"
   ]
  },
  {
   "cell_type": "code",
   "execution_count": 135,
   "id": "382efed6-795d-4aa3-bfac-1c6bb4b2e065",
   "metadata": {},
   "outputs": [
    {
     "data": {
      "text/plain": [
       "genero  categoria_producto\n",
       "Female  Electronics           0.301363\n",
       "        Clothing              0.200829\n",
       "        Food                  0.149040\n",
       "        Books                 0.148299\n",
       "        Health                0.100855\n",
       "        Home                  0.050367\n",
       "        Beauty                0.049246\n",
       "Male    Electronics           0.299383\n",
       "        Clothing              0.198899\n",
       "        Books                 0.150063\n",
       "        Food                  0.147452\n",
       "        Health                0.101549\n",
       "        Beauty                0.051508\n",
       "        Home                  0.051146\n",
       "Name: proportion, dtype: float64"
      ]
     },
     "execution_count": 135,
     "metadata": {},
     "output_type": "execute_result"
    }
   ],
   "source": [
    "# Preferencias de categoria \n",
    "df_customer.groupby('genero')['categoria_producto'].value_counts(normalize=True)"
   ]
  },
  {
   "cell_type": "code",
   "execution_count": 139,
   "id": "5551d52f-a5dc-452b-9679-85590d5426cd",
   "metadata": {},
   "outputs": [
    {
     "data": {
      "text/html": [
       "<div>\n",
       "<style scoped>\n",
       "    .dataframe tbody tr th:only-of-type {\n",
       "        vertical-align: middle;\n",
       "    }\n",
       "\n",
       "    .dataframe tbody tr th {\n",
       "        vertical-align: top;\n",
       "    }\n",
       "\n",
       "    .dataframe thead th {\n",
       "        text-align: right;\n",
       "    }\n",
       "</style>\n",
       "<table border=\"1\" class=\"dataframe\">\n",
       "  <thead>\n",
       "    <tr style=\"text-align: right;\">\n",
       "      <th></th>\n",
       "      <th>genero</th>\n",
       "      <th>categoria_producto</th>\n",
       "      <th>count</th>\n",
       "      <th>proportion</th>\n",
       "    </tr>\n",
       "  </thead>\n",
       "  <tbody>\n",
       "    <tr>\n",
       "      <th>0</th>\n",
       "      <td>Female</td>\n",
       "      <td>Beauty</td>\n",
       "      <td>2460</td>\n",
       "      <td>0.049246</td>\n",
       "    </tr>\n",
       "    <tr>\n",
       "      <th>1</th>\n",
       "      <td>Female</td>\n",
       "      <td>Books</td>\n",
       "      <td>7408</td>\n",
       "      <td>0.148299</td>\n",
       "    </tr>\n",
       "    <tr>\n",
       "      <th>2</th>\n",
       "      <td>Female</td>\n",
       "      <td>Clothing</td>\n",
       "      <td>10032</td>\n",
       "      <td>0.200829</td>\n",
       "    </tr>\n",
       "    <tr>\n",
       "      <th>3</th>\n",
       "      <td>Female</td>\n",
       "      <td>Electronics</td>\n",
       "      <td>15054</td>\n",
       "      <td>0.301363</td>\n",
       "    </tr>\n",
       "    <tr>\n",
       "      <th>4</th>\n",
       "      <td>Female</td>\n",
       "      <td>Food</td>\n",
       "      <td>7445</td>\n",
       "      <td>0.149040</td>\n",
       "    </tr>\n",
       "  </tbody>\n",
       "</table>\n",
       "</div>"
      ],
      "text/plain": [
       "   genero categoria_producto  count  proportion\n",
       "0  Female             Beauty   2460    0.049246\n",
       "1  Female              Books   7408    0.148299\n",
       "2  Female           Clothing  10032    0.200829\n",
       "3  Female        Electronics  15054    0.301363\n",
       "4  Female               Food   7445    0.149040"
      ]
     },
     "execution_count": 139,
     "metadata": {},
     "output_type": "execute_result"
    }
   ],
   "source": [
    "# 1. Contar frecuencia absoluta por género y categoría\n",
    "counts = df_customer.groupby(['genero', 'categoria_producto']).size().reset_index(name='count')\n",
    "\n",
    "# 2. Calcular total por género para normalizar\n",
    "totals = counts.groupby('genero')['count'].transform('sum')\n",
    "\n",
    "# 3. Calcular proporción dentro de cada género\n",
    "counts['proportion'] = counts['count'] / totals\n",
    "\n",
    "counts.head()"
   ]
  },
  {
   "cell_type": "code",
   "execution_count": 141,
   "id": "95f551c4-17e2-400f-9348-173d3306b9b8",
   "metadata": {},
   "outputs": [
    {
     "data": {
      "image/png": "[encoded data removed]",
      "text/plain": [
       "<Figure size 1200x600 with 1 Axes>"
      ]
     },
     "metadata": {},
     "output_type": "display_data"
    }
   ],
   "source": [
    "plt.figure(figsize=(12,6))\n",
    "sns.barplot(data=counts, x='categoria_producto', y='proportion', hue='genero', palette='pastel')\n",
    "plt.title('Preferencias de categoría por género')\n",
    "plt.ylabel('Proporción de compras')\n",
    "plt.xticks(rotation=45)\n",
    "plt.show()"
   ]
  },
  {
   "cell_type": "code",
   "execution_count": 83,
   "id": "274de6a1-d112-4b6f-a961-fa0eeae510d2",
   "metadata": {},
   "outputs": [
    {
     "data": {
      "image/png": "[encoded data removed]",
      "text/plain": [
       "<Figure size 1200x600 with 1 Axes>"
      ]
     },
     "metadata": {},
     "output_type": "display_data"
    }
   ],
   "source": [
    "pivot_df = counts.pivot(index='product_category', columns='gender', values='proportion')\n",
    "\n",
    "pivot_df.plot(kind='bar', stacked=True, figsize=(12,6), colormap='Pastel1')\n",
    "plt.title('Preferencias de categoría por género (barras apiladas)')\n",
    "plt.ylabel('Proporción de compras')\n",
    "plt.xticks(rotation=45)\n",
    "plt.show()"
   ]
  },
  {
   "cell_type": "markdown",
   "id": "2f2d4d0d-e38a-4bf7-87d5-55b3846c165c",
   "metadata": {},
   "source": [
    "<b>La distribución y preferencias de productos entre hombres y mujeres son muy similares, lo que coincide con que ambos géneros están representados casi por igual en la muestra.</b>"
   ]
  },
  {
   "cell_type": "code",
   "execution_count": 87,
   "id": "1eeac226-2ff9-49fe-b510-9209797b860e",
   "metadata": {},
   "outputs": [
    {
     "data": {
      "text/plain": [
       "Index(['id', 'age', 'gender', 'income', 'education', 'region',\n",
       "       'loyalty_status', 'purchase_frequency', 'purchase_amount',\n",
       "       'product_category', 'promotion_usage', 'satisfaction_score'],\n",
       "      dtype='object')"
      ]
     },
     "execution_count": 87,
     "metadata": {},
     "output_type": "execute_result"
    }
   ],
   "source": [
    "df_customer.columns"
   ]
  },
  {
   "cell_type": "markdown",
   "id": "c49ace1d-0aa3-44e0-8774-2b253e1e21fa",
   "metadata": {},
   "source": [
    "<h4>Columna 'Ingresos'</h4>"
   ]
  },
  {
   "cell_type": "code",
   "execution_count": 18,
   "id": "d3d15fbb-4919-4376-88c3-df4fe9cd286c",
   "metadata": {},
   "outputs": [
    {
     "data": {
      "image/png": "[encoded data removed]",
      "text/plain": [
       "<Figure size 800x200 with 1 Axes>"
      ]
     },
     "metadata": {},
     "output_type": "display_data"
    }
   ],
   "source": [
    "plt.figure(figsize=(8, 2))\n",
    "sns.boxplot(x=df_customer['ingresos'], color='lightgreen')\n",
    "plt.title('Boxplot de Ingresos')\n",
    "plt.xlabel('Ingreso')\n",
    "plt.show()"
   ]
  },
  {
   "cell_type": "markdown",
   "id": "96aa7bdf-8cb0-47e0-9a84-766fcead367b",
   "metadata": {},
   "source": [
    "<b>Los valores están razonablemente distribuidos y no hay ingresos extremos que puedan distorsionar el análisis </b>"
   ]
  },
  {
   "cell_type": "code",
   "execution_count": 20,
   "id": "b02f3573-0a43-401b-b883-e968e87398e3",
   "metadata": {},
   "outputs": [
    {
     "data": {
      "text/plain": [
       "Index(['id', 'edad', 'genero', 'ingresos', 'educacion', 'region', 'fidelidad',\n",
       "       'frecuencia_compra', 'importe_compra', 'categoria_producto',\n",
       "       'cupon_promocion', 'satisfaccion'],\n",
       "      dtype='object')"
      ]
     },
     "execution_count": 20,
     "metadata": {},
     "output_type": "execute_result"
    }
   ],
   "source": [
    "df_customer.columns"
   ]
  },
  {
   "cell_type": "markdown",
   "id": "328272ed-ed41-4908-8fb9-4ea9c5d88151",
   "metadata": {},
   "source": [
    "<h4>Análisis de la columna \"Educación\" </h4>"
   ]
  },
  {
   "cell_type": "code",
   "execution_count": 22,
   "id": "b38c7e42-2613-4948-b2e7-6058f0ed29c1",
   "metadata": {},
   "outputs": [
    {
     "data": {
      "text/plain": [
       "educacion\n",
       "College       39874\n",
       "Bachelor      30279\n",
       "HighSchool    20031\n",
       "Masters        9816\n",
       "Name: count, dtype: int64"
      ]
     },
     "execution_count": 22,
     "metadata": {},
     "output_type": "execute_result"
    }
   ],
   "source": [
    "df_customer['educacion'].value_counts()"
   ]
  },
  {
   "cell_type": "markdown",
   "id": "fee82fc1-dd70-4786-9a77-20bae3a28117",
   "metadata": {},
   "source": [
    "<h4>Análisis de la columna \"Fidelidad\" </h4>"
   ]
  },
  {
   "cell_type": "code",
   "execution_count": 27,
   "id": "a1689822-8bf7-4e90-88c9-2ffccacc849a",
   "metadata": {},
   "outputs": [
    {
     "data": {
      "text/plain": [
       "dtype('O')"
      ]
     },
     "execution_count": 27,
     "metadata": {},
     "output_type": "execute_result"
    }
   ],
   "source": [
    "df_customer['fidelidad'].dtype"
   ]
  },
  {
   "cell_type": "markdown",
   "id": "286f49b4-41bd-4225-9292-db9326526901",
   "metadata": {},
   "source": [
    "<h4>Análisis de la columna \"frecuencia_compra\" </h4>"
   ]
  },
  {
   "cell_type": "code",
   "execution_count": 30,
   "id": "9d579b57-c908-40c7-bf33-8cd137821b5a",
   "metadata": {},
   "outputs": [
    {
     "data": {
      "text/plain": [
       "dtype('O')"
      ]
     },
     "execution_count": 30,
     "metadata": {},
     "output_type": "execute_result"
    }
   ],
   "source": [
    "df_customer['frecuencia_compra'].dtype"
   ]
  },
  {
   "cell_type": "code",
   "execution_count": 32,
   "id": "ef9075a2-0b54-4643-b4f1-ecb31b0ca0b4",
   "metadata": {},
   "outputs": [],
   "source": [
    "# Mapa de correlacion entre variables: Muestra qué variables están más relacionadas entre sí.\n",
    "# Observar features más importantes\n",
    "# Realizar discretización por grupo etario"
   ]
  },
  {
   "cell_type": "code",
   "execution_count": 34,
   "id": "43e0274d-a180-4eef-aa5d-bc0319a1bd9b",
   "metadata": {},
   "outputs": [],
   "source": [
    "# Ejecutar despues de ver los outliers\n",
    "#sns.heatmap(df_customer.corr(numeric_only=True), annot=True, cmap=\"coolwarm\")"
   ]
  },
  {
   "cell_type": "code",
   "execution_count": 32,
   "id": "792d5e56-10a3-40cd-96d3-65d2062e8251",
   "metadata": {},
   "outputs": [],
   "source": [
    "# El ingreso de una persona esta relacionado con lo que gasta.\n",
    "# La edad con la puntuación de satisfacción esta fuertemente relacionada.\n",
    "# El uso de promociones esta algo relacionado con el ingreso."
   ]
  },
  {
   "cell_type": "code",
   "execution_count": null,
   "id": "caf2bd9c-1840-4c67-9097-54ff1f354243",
   "metadata": {},
   "outputs": [],
   "source": []
  }
 ],
 "metadata": {
  "kernelspec": {
   "display_name": "Python [conda env:base] *",
   "language": "python",
   "name": "conda-base-py"
  },
  "language_info": {
   "codemirror_mode": {
    "name": "ipython",
    "version": 3
   },
   "file_extension": ".py",
   "mimetype": "text/x-python",
   "name": "python",
   "nbconvert_exporter": "python",
   "pygments_lexer": "ipython3",
   "version": "3.12.7"
  }
 },
 "nbformat": 4,
 "nbformat_minor": 5
}
