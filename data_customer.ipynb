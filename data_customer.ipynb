{
 "cells": [
  {
   "cell_type": "markdown",
   "id": "63912867-1196-49df-9b17-685b597fc11e",
   "metadata": {},
   "source": [
    "<h2>Objetivo: detectar qué productos son los más comprados por ciertos grupos etarios.</h2>\n",
    "<h3>Rangos de edad que vamos a evaluar: 18-24, 25-35, 36-49, 50+</h3>"
   ]
  },
  {
   "cell_type": "markdown",
   "id": "007384ae-f6d6-4511-bb06-71b94546dd34",
   "metadata": {},
   "source": [
    "<h4>1.Fase de Análisis exploratorio</h4>"
   ]
  },
  {
   "cell_type": "code",
   "execution_count": 406,
   "id": "6a626f45-6ed3-40ea-958f-1cb5165d729a",
   "metadata": {},
   "outputs": [],
   "source": [
    "import pandas as pd\n",
    "import numpy as np\n",
    "import seaborn as sns\n",
    "import matplotlib.pyplot as plt\n",
    "from sklearn.preprocessing import StandardScaler\n",
    "from sklearn.model_selection import train_test_split\n",
    "from sklearn.tree import DecisionTreeClassifier"
   ]
  },
  {
   "cell_type": "code",
   "execution_count": 410,
   "id": "3b0d1cb0-8048-424b-9abb-0cf56859001d",
   "metadata": {},
   "outputs": [],
   "source": [
    "df_customer = pd.read_csv('https://raw.githubusercontent.com/micaelakorol21/datasets/refs/heads/main/customer_data.csv')"
   ]
  },
  {
   "cell_type": "code",
   "execution_count": null,
   "id": "cb620a7b-2157-4ac7-abaa-25a5861e3b43",
   "metadata": {},
   "outputs": [],
   "source": [
    "df_customer.shape"
   ]
  },
  {
   "cell_type": "code",
   "execution_count": null,
   "id": "9f140487-42ad-4f83-a07f-b1217d86f322",
   "metadata": {},
   "outputs": [],
   "source": [
    "df_customer.isna().sum()"
   ]
  },
  {
   "cell_type": "code",
   "execution_count": null,
   "id": "c3b68db4-9434-4f2c-95bc-94eb4bc81a3c",
   "metadata": {},
   "outputs": [],
   "source": [
    "df_customer.dtypes"
   ]
  },
  {
   "cell_type": "code",
   "execution_count": null,
   "id": "9c5a9850-d374-4309-8cb2-b38097bfe243",
   "metadata": {},
   "outputs": [],
   "source": [
    "# Observamos el promedio de ingreso:\n",
    "df_customer['income'].describe()"
   ]
  },
  {
   "cell_type": "code",
   "execution_count": null,
   "id": "22464ee1-980b-4177-9004-db0c72e75b36",
   "metadata": {},
   "outputs": [],
   "source": [
    "# Importe de la compra promedio entre hombres y mujeres:\n",
    "df_customer.groupby(\"gender\")[\"purchase_amount\"].mean()"
   ]
  },
  {
   "cell_type": "code",
   "execution_count": null,
   "id": "35970481-121c-4276-b5a0-982efd2693e5",
   "metadata": {},
   "outputs": [],
   "source": [
    "# Categorias mas vendidas\n",
    "df_customer.groupby(\"product_category\")[\"purchase_amount\"].mean()"
   ]
  },
  {
   "cell_type": "code",
   "execution_count": null,
   "id": "696d7e91-824f-4dc7-b210-4aab8e148042",
   "metadata": {},
   "outputs": [],
   "source": [
    "# Cuantas categorias hay:\n",
    "df_customer['product_category'].value_counts()"
   ]
  },
  {
   "cell_type": "code",
   "execution_count": null,
   "id": "d82aa7a7-9deb-4a31-9410-c9e598db56bc",
   "metadata": {},
   "outputs": [],
   "source": [
    "sns.set(style=\"whitegrid\")\n",
    "\n",
    "# Boxplot de edad\n",
    "plt.figure(figsize=(8, 4))\n",
    "sns.boxplot(x=df_customer[\"age\"], color=\"skyblue\")\n",
    "plt.title(\"Boxplot de Edad\")\n",
    "plt.xlabel(\"Edad\")\n",
    "plt.show()"
   ]
  },
  {
   "cell_type": "code",
   "execution_count": null,
   "id": "76d119cb-8965-4dff-acf4-5e55bf97f17e",
   "metadata": {},
   "outputs": [],
   "source": [
    "df_customer['age'].describe()"
   ]
  },
  {
   "cell_type": "code",
   "execution_count": null,
   "id": "6beb0e78-f6be-44f1-aeb7-383808f956d1",
   "metadata": {},
   "outputs": [],
   "source": [
    "# Eliminamos los menores de 18 años, ya que nuestro análisis se centra > 18 hasta 99 años."
   ]
  },
  {
   "cell_type": "code",
   "execution_count": null,
   "id": "8d19beec-35aa-4126-9913-a50e9ec462ec",
   "metadata": {},
   "outputs": [],
   "source": [
    "df_customer = df_customer[df_customer['age'] >= 18]"
   ]
  },
  {
   "cell_type": "code",
   "execution_count": null,
   "id": "27f66145-2f2c-4097-ba54-514f7164d8cd",
   "metadata": {},
   "outputs": [],
   "source": [
    "sns.boxplot(x=df_customer[\"age\"], color=\"orange\")\n",
    "plt.title(\"Boxplot de Edad (filtrando menores)\")\n",
    "plt.show()"
   ]
  },
  {
   "cell_type": "markdown",
   "id": "e19c1729-b275-4a8d-8933-4a906919afff",
   "metadata": {},
   "source": [
    "<h4>Analizamos la columna gender: </h4>"
   ]
  },
  {
   "cell_type": "code",
   "execution_count": null,
   "id": "e494e2d3-6062-41eb-8735-6ac61a8da592",
   "metadata": {},
   "outputs": [],
   "source": [
    "# Cuántos registros hay de cada género:\n",
    "df_customer['gender'].value_counts()"
   ]
  },
  {
   "cell_type": "code",
   "execution_count": null,
   "id": "165765e6-254b-4851-b9d8-0beb4cb231c1",
   "metadata": {},
   "outputs": [],
   "source": [
    "# Porcentaje de representación de cada género:\n",
    "df_customer['gender'].value_counts(normalize=True) * 100"
   ]
  },
  {
   "cell_type": "code",
   "execution_count": null,
   "id": "e10de60e-f556-4ed9-a930-aa61aa56e97c",
   "metadata": {},
   "outputs": [],
   "source": [
    "# Gasto promedio por género:\n",
    "df_customer.groupby('gender')['purchase_amount'].mean()"
   ]
  },
  {
   "cell_type": "code",
   "execution_count": null,
   "id": "46c0b8c0-0a3a-4d17-bd60-2ee3457d7afe",
   "metadata": {},
   "outputs": [],
   "source": [
    "sns.boxplot(data=df_customer, x='gender', y='purchase_amount')"
   ]
  },
  {
   "cell_type": "markdown",
   "id": "b230e43c-7bc3-477f-a8c4-ddc90e989ab9",
   "metadata": {},
   "source": [
    "<p>El 25% de los compradores, gastó $6000</p>\n",
    "<p>El 50% de los compradores, gastó 9500</p>\n",
    "<p>El otro 25% gastó 13.500 aprox. El 75% de los compradores, gastó menos que Q3.</p>"
   ]
  },
  {
   "cell_type": "code",
   "execution_count": null,
   "id": "a1f69d33-7d47-4a24-b015-ec68ae919c36",
   "metadata": {},
   "outputs": [],
   "source": [
    "# Frecuencia de compra por género\n",
    "df_customer.groupby('gender')['purchase_frequency'].value_counts(normalize=True)"
   ]
  },
  {
   "cell_type": "code",
   "execution_count": null,
   "id": "382efed6-795d-4aa3-bfac-1c6bb4b2e065",
   "metadata": {},
   "outputs": [],
   "source": [
    "# Preferencias de categoria \n",
    "df_customer.groupby('gender')['product_category'].value_counts()"
   ]
  },
  {
   "cell_type": "code",
   "execution_count": null,
   "id": "ef0ff8fe-b34e-4b31-8644-899bd6a40de5",
   "metadata": {},
   "outputs": [],
   "source": [
    "# Calculamos la frecuencia absoluta y la proporción de categorías de productos para un género específico con una función reutilziable.\n",
    "def get_gender_product_proportions(df_customer, gender):\n",
    "    # Cuenta cuántas veces aparece cada combinación de género y categoría.\n",
    "    counts = df_customer.groupby(['gender', 'product_category']).size().reset_index(name='count')\n",
    "    # Total de compras para cada género\n",
    "    totals = counts.groupby('gender')['count'].transform('sum')\n",
    "    # Proporción de cada categoría dentro de un género\n",
    "    counts['proportion'] = counts['count'] / totals\n",
    "\n",
    "    gender_counts = counts[counts['gender'] == gender]\n",
    "\n",
    "    return gender_counts"
   ]
  },
  {
   "cell_type": "code",
   "execution_count": null,
   "id": "98456572-bf6a-4d37-bc7a-fd9d97324803",
   "metadata": {},
   "outputs": [],
   "source": [
    "female_data = get_gender_product_proportions(df_customer, 'Female')\n",
    "print(female_data.head())"
   ]
  },
  {
   "cell_type": "markdown",
   "id": "a282a949-86ce-4dab-a3f7-9a1af2928f40",
   "metadata": {},
   "source": [
    "<p>Las mujeres gastan más en categorias como: Electrónica 30%, Ropa 20% y comida 14%.</p>\n",
    "<p>Además, el 4.92% de las compras de mujeres fueron de productos de belleza y 14% en compras de libros.</p>"
   ]
  },
  {
   "cell_type": "code",
   "execution_count": null,
   "id": "27bcb81b-5609-4238-bb41-0eb6fb0d11f5",
   "metadata": {},
   "outputs": [],
   "source": [
    "male_data = get_gender_product_proportions(df_customer, 'Male')\n",
    "print(male_data.head())"
   ]
  },
  {
   "cell_type": "markdown",
   "id": "5917ceb3-aefe-49bf-90f4-13ace18f114b",
   "metadata": {},
   "source": [
    "<p>Los hombres gastan más en categorias como: Electrónica, Ropa, Libros y Comida.</p>"
   ]
  },
  {
   "cell_type": "code",
   "execution_count": null,
   "id": "95f551c4-17e2-400f-9348-173d3306b9b8",
   "metadata": {},
   "outputs": [],
   "source": [
    "plt.figure(figsize=(12,6))\n",
    "sns.barplot(data=counts, x='product_category', y='proportion', hue='gender', palette='pastel')\n",
    "plt.title('Preferencias de categoría por género')\n",
    "plt.ylabel('Proporción de compras')\n",
    "plt.xticks(rotation=45)\n",
    "plt.show()"
   ]
  },
  {
   "cell_type": "code",
   "execution_count": null,
   "id": "274de6a1-d112-4b6f-a961-fa0eeae510d2",
   "metadata": {},
   "outputs": [],
   "source": [
    "pivot_df = counts.pivot(index='product_category', columns='gender', values='proportion')\n",
    "\n",
    "pivot_df.plot(kind='bar', stacked=True, figsize=(12,6), colormap='Pastel1')\n",
    "plt.title('Preferencias de categoría por género (barras apiladas)')\n",
    "plt.ylabel('Proporción de compras')\n",
    "plt.xticks(rotation=45)\n",
    "plt.show()"
   ]
  },
  {
   "cell_type": "markdown",
   "id": "2f2d4d0d-e38a-4bf7-87d5-55b3846c165c",
   "metadata": {},
   "source": [
    "<b>La distribución y preferencias de productos entre hombres y mujeres son muy similares, lo que coincide con que ambos géneros están representados casi por igual en la muestra.</b>"
   ]
  },
  {
   "cell_type": "code",
   "execution_count": null,
   "id": "1eeac226-2ff9-49fe-b510-9209797b860e",
   "metadata": {},
   "outputs": [],
   "source": [
    "df_customer.columns"
   ]
  },
  {
   "cell_type": "markdown",
   "id": "473041f6-00cb-49e4-a4f0-0e15085e02f8",
   "metadata": {},
   "source": [
    "<h4>Análisis de la columna: 'region'</h4>"
   ]
  },
  {
   "cell_type": "code",
   "execution_count": null,
   "id": "63f30015-c489-485a-8ea1-7b97d8ad53af",
   "metadata": {},
   "outputs": [],
   "source": [
    "df_customer['region'].value_counts()"
   ]
  },
  {
   "cell_type": "code",
   "execution_count": null,
   "id": "dad60ae1-2e76-48a8-bd6e-b12825d3425a",
   "metadata": {},
   "outputs": [],
   "source": [
    "df_customer['region'].describe()"
   ]
  },
  {
   "cell_type": "markdown",
   "id": "c49ace1d-0aa3-44e0-8774-2b253e1e21fa",
   "metadata": {},
   "source": [
    "<h4>Análisis de la columna: 'income'</h4>"
   ]
  },
  {
   "cell_type": "code",
   "execution_count": null,
   "id": "d3d15fbb-4919-4376-88c3-df4fe9cd286c",
   "metadata": {},
   "outputs": [],
   "source": [
    "plt.figure(figsize=(8, 2))\n",
    "sns.boxplot(x=df_customer['income'], color='lightgreen')\n",
    "plt.title('Boxplot de Ingresos')\n",
    "plt.xlabel('Ingreso')\n",
    "plt.show()"
   ]
  },
  {
   "cell_type": "markdown",
   "id": "96aa7bdf-8cb0-47e0-9a84-766fcead367b",
   "metadata": {},
   "source": [
    "<b>Los valores están razonablemente distribuidos y no hay ingresos extremos que puedan distorsionar el análisis </b>"
   ]
  },
  {
   "cell_type": "code",
   "execution_count": null,
   "id": "b02f3573-0a43-401b-b883-e968e87398e3",
   "metadata": {},
   "outputs": [],
   "source": [
    "df_customer.columns"
   ]
  },
  {
   "cell_type": "markdown",
   "id": "328272ed-ed41-4908-8fb9-4ea9c5d88151",
   "metadata": {},
   "source": [
    "<h4>Análisis de la columna \"education\" </h4>"
   ]
  },
  {
   "cell_type": "code",
   "execution_count": null,
   "id": "b38c7e42-2613-4948-b2e7-6058f0ed29c1",
   "metadata": {},
   "outputs": [],
   "source": [
    "df_customer['education'].value_counts()"
   ]
  },
  {
   "cell_type": "code",
   "execution_count": null,
   "id": "2a81338e-f7c7-41f0-bfe7-66d8f80ff67c",
   "metadata": {},
   "outputs": [],
   "source": [
    "df_customer['education'].describe()"
   ]
  },
  {
   "cell_type": "markdown",
   "id": "fee82fc1-dd70-4786-9a77-20bae3a28117",
   "metadata": {},
   "source": [
    "<h4>Análisis de la columna \"loyalty_status\" </h4>"
   ]
  },
  {
   "cell_type": "code",
   "execution_count": null,
   "id": "a1689822-8bf7-4e90-88c9-2ffccacc849a",
   "metadata": {},
   "outputs": [],
   "source": [
    "df_customer['loyalty_status'].dtype"
   ]
  },
  {
   "cell_type": "code",
   "execution_count": null,
   "id": "5be70098-60a7-4a1d-8806-983b87544859",
   "metadata": {},
   "outputs": [],
   "source": [
    "df_customer['loyalty_status'].value_counts()"
   ]
  },
  {
   "cell_type": "code",
   "execution_count": null,
   "id": "3114aaf3-d43e-495b-bdd9-9e741a9c55b5",
   "metadata": {},
   "outputs": [],
   "source": [
    "df_customer['loyalty_status'].describe()"
   ]
  },
  {
   "cell_type": "code",
   "execution_count": null,
   "id": "46ed623f-5605-4efa-8ece-79c0ab420f06",
   "metadata": {},
   "outputs": [],
   "source": [
    "df_customer['loyalty_status'].value_counts().plot(kind='bar', color='pink')\n",
    "plt.title('Distribución de Loyalty Status')\n",
    "plt.xlabel('Loyalty Status')\n",
    "plt.ylabel('Frecuencia')\n",
    "plt.xticks(rotation=45)\n",
    "plt.show()"
   ]
  },
  {
   "cell_type": "markdown",
   "id": "293d15fe-c5d4-4c79-89bf-a760c1b4436f",
   "metadata": {},
   "source": [
    "<p>Esto podría indicar que, aunque se tiene un número considerable de clientes leales (como los de Gold o Silver), la mayoría de tus clientes no alcanzan un nivel de lealtad muy alto, sino que están en un punto medio Regular.</p>"
   ]
  },
  {
   "cell_type": "markdown",
   "id": "286f49b4-41bd-4225-9292-db9326526901",
   "metadata": {},
   "source": [
    "<h4>Análisis de la columna \"purchase_frequency\" </h4>"
   ]
  },
  {
   "cell_type": "code",
   "execution_count": null,
   "id": "9d579b57-c908-40c7-bf33-8cd137821b5a",
   "metadata": {},
   "outputs": [],
   "source": [
    "df_customer['purchase_frequency'].dtype"
   ]
  },
  {
   "cell_type": "code",
   "execution_count": null,
   "id": "ba92a81d-5e24-402d-b794-8ceef85f5111",
   "metadata": {},
   "outputs": [],
   "source": [
    "df_customer['purchase_frequency'].value_counts() "
   ]
  },
  {
   "cell_type": "code",
   "execution_count": null,
   "id": "a0025f3f-d5b6-4d88-8fab-6b3654056a85",
   "metadata": {},
   "outputs": [],
   "source": [
    "# Datos\n",
    "frecuencia = {\n",
    "    'rare': 49885,\n",
    "    'occasional': 29805,\n",
    "    'frequent': 20042\n",
    "}\n",
    "\n",
    "# Total de registros\n",
    "total = sum(frecuencia.values())\n",
    "\n",
    "# Calcular proporciones\n",
    "proporciones = {key: value / total for key, value in frecuencia.items()}\n",
    "print(proporciones)"
   ]
  },
  {
   "cell_type": "code",
   "execution_count": null,
   "id": "09124003-6a04-4224-9c56-a9ae15c3f197",
   "metadata": {},
   "outputs": [],
   "source": [
    "import matplotlib.pyplot as plt\n",
    "\n",
    "# Datos para gráfico\n",
    "categorias = list(frecuencia.keys())\n",
    "valores = list(frecuencia.values())\n",
    "\n",
    "# Crear gráfico\n",
    "plt.figure(figsize=(8, 6))\n",
    "plt.bar(categorias, valores, color=['skyblue', 'lightgreen', 'salmon'])\n",
    "plt.title('Distribución de Frecuencia de Compra')\n",
    "plt.xlabel('Frecuencia de Compra')\n",
    "plt.ylabel('Número de Clientes')\n",
    "plt.xticks(rotation=45)\n",
    "plt.show()"
   ]
  },
  {
   "cell_type": "markdown",
   "id": "4b10df21-6b87-4fb4-af1d-5b8fdb676fc2",
   "metadata": {},
   "source": [
    "<p> A partir de la distribución de la frecuencia de compra, donde el 50% de los clientes compran raramente, el 30% lo hacen de manera ocasional y solo el 20% de manera frecuente, se observa una baja fidelidad entre los clientes. Esto indica que una gran parte de la base de clientes no tiene un comportamiento de compra regular.</p>"
   ]
  },
  {
   "cell_type": "markdown",
   "id": "99e4b307-6db3-49ee-90d8-76c29b9668a1",
   "metadata": {},
   "source": [
    "<h4>Análisis de la columna: \"purchase_amount\": </h4>"
   ]
  },
  {
   "cell_type": "code",
   "execution_count": null,
   "id": "87a12e72-8043-45ca-a537-30ab33bb54ef",
   "metadata": {},
   "outputs": [],
   "source": [
    "plt.figure(figsize=(8, 2))\n",
    "sns.boxplot(x=df_customer['purchase_amount'], color='pink')\n",
    "plt.title('Boxplot de \"purchase_amount\"')\n",
    "plt.xlabel('Monto de compra')\n",
    "plt.show()"
   ]
  },
  {
   "cell_type": "markdown",
   "id": "4ccee224-c1a0-4a05-877b-e5e4f62a62aa",
   "metadata": {},
   "source": [
    "<b>En el análisis de los montos de compra, observamos algunos valores atípicos (outliers) que representan compras mucho más altas que el promedio. Estos valores son representados por los círculos fuera del rango en el boxplot. Aunque estos puntos se consideren técnicamente outliers, no los eliminaremos del análisis, ya que representan clientes de alto gasto y pueden ser fundamentales para entender ciertos patrones de consumo.</b>"
   ]
  },
  {
   "cell_type": "markdown",
   "id": "315ca6e2-3e79-4cfd-be7b-85347aafac57",
   "metadata": {},
   "source": [
    "<h4>Análisis de la columna: \"product_category\": </h4>"
   ]
  },
  {
   "cell_type": "code",
   "execution_count": null,
   "id": "28a7618c-4fb5-46f7-b5e0-a355550294dc",
   "metadata": {},
   "outputs": [],
   "source": [
    "print(df_customer['product_category'].dtype)"
   ]
  },
  {
   "cell_type": "code",
   "execution_count": null,
   "id": "546cf5cb-5973-46b7-b315-0a13b33261ee",
   "metadata": {},
   "outputs": [],
   "source": [
    "category_counts = df_customer['product_category'].value_counts()\n",
    "# Gráfico de barras para visualizar la distribución\n",
    "plt.figure(figsize=(10, 6))\n",
    "category_counts.plot(kind='bar', color='purple')\n",
    "plt.title('Distribución de Categorías de Producto')\n",
    "plt.xlabel('Categoría de Producto')\n",
    "plt.ylabel('Número de Compras')\n",
    "plt.xticks(rotation=45)\n",
    "plt.show()"
   ]
  },
  {
   "cell_type": "markdown",
   "id": "168cbbf8-c3ba-44b0-843e-fb08385d212d",
   "metadata": {},
   "source": [
    "<h4>Análisis de la columna: \"promotion_usage\": </h4>"
   ]
  },
  {
   "cell_type": "code",
   "execution_count": null,
   "id": "ae27ad48-afa1-4759-b312-8d64af9277ec",
   "metadata": {},
   "outputs": [],
   "source": [
    "# Distribución de uso de promociones\n",
    "promotion_usage_counts = df_customer['promotion_usage'].value_counts()\n",
    "\n",
    "# Gráfico de barras\n",
    "plt.figure(figsize=(8, 6))\n",
    "promotion_usage_counts.plot(kind='bar', color='orange')\n",
    "plt.title('Distribución de Uso de Promociones')\n",
    "plt.xlabel('Uso de Promoción')\n",
    "plt.ylabel('Número de Clientes')\n",
    "plt.xticks(rotation=0)\n",
    "plt.show()\n",
    "# 0 indica que el cliente no usa promociones\n",
    "# 1 indica que el cliente usa promociones"
   ]
  },
  {
   "cell_type": "markdown",
   "id": "8e781d6e-17fe-4283-a94d-e2813ca003fe",
   "metadata": {},
   "source": [
    "<b>Podemos observar que la mayoria de los clientes no aprovechan las promociones.</b>"
   ]
  },
  {
   "cell_type": "markdown",
   "id": "beb1ebe0-9105-4f75-aca9-e5580fe9d768",
   "metadata": {},
   "source": [
    "<h4>Análisis de la columna: \"satisfaction_score\"</h4>"
   ]
  },
  {
   "cell_type": "code",
   "execution_count": null,
   "id": "efe727f7-977f-4143-9728-d81a49ce5b6c",
   "metadata": {},
   "outputs": [],
   "source": [
    "print(df_customer['satisfaction_score'].dtype)"
   ]
  },
  {
   "cell_type": "code",
   "execution_count": null,
   "id": "bd67d768-8f51-4787-bbd3-22c9ad76163f",
   "metadata": {},
   "outputs": [],
   "source": [
    "# Ver los valores únicos de la columna 'satisfaction_score'\n",
    "print(df_customer['satisfaction_score'].unique())"
   ]
  },
  {
   "cell_type": "code",
   "execution_count": null,
   "id": "e7ccaa02-74ff-4aa2-9e91-00d3dd3070ce",
   "metadata": {},
   "outputs": [],
   "source": [
    "df_customer['satisfaction_score'].describe()"
   ]
  },
  {
   "cell_type": "code",
   "execution_count": null,
   "id": "b9c8ac92-032f-4095-8305-30922779840a",
   "metadata": {},
   "outputs": [],
   "source": [
    "# Histograma de Rango de satisfacción de 0 a 10.\n",
    "plt.figure(figsize=(8, 6))\n",
    "df_customer['satisfaction_score'].plot(kind='hist', bins=10, color='salmon', edgecolor='black')\n",
    "plt.title('Distribución de Satisfacción del Cliente')\n",
    "plt.xlabel('Puntuación de Satisfacción')\n",
    "plt.ylabel('Frecuencia')\n",
    "plt.show()"
   ]
  },
  {
   "cell_type": "code",
   "execution_count": null,
   "id": "3914c9c4-3d25-46b0-bd26-3268d755215c",
   "metadata": {},
   "outputs": [],
   "source": [
    "plt.figure(figsize=(8, 2))\n",
    "sns.boxplot(x=df_customer['satisfaction_score'], color='orange')\n",
    "plt.title('Boxplot de \"satisfaction_score\"')\n",
    "plt.xlabel('satisfaction_score')\n",
    "plt.show()"
   ]
  },
  {
   "cell_type": "markdown",
   "id": "7f7531df-b60d-438c-86f2-e54ea045e05e",
   "metadata": {},
   "source": [
    "<b>Al observar la distribución de los puntajes de satisfacción, podemos ver que la mayoría de los clientes se encuentran en los valores centrales de la escala, con una ligera inclinación hacia la satisfacción (valores cercanos a 5 y 6). Esto indica que muchos clientes se sienten satisfechos o neutros con su experiencia.</b> <br>\n",
    "<b>En el boxplot de la distribución de los puntajes de satisfacción, podemos observar que los valores de 0 y 10 están fuera del rango intercuartílico y se identifican como outliers. Sin embargo, estos valores no serán eliminados, ya que representan extremos válidos de la escala: 0  muy insatisfecho, 10 muy satisfecho.</b>"
   ]
  },
  {
   "cell_type": "markdown",
   "id": "2f2b477e-3ce2-4596-91a6-e2d69429a6bc",
   "metadata": {},
   "source": [
    "<h3>Mapa de correlacion entre variables: Muestra qué variables están más relacionadas entre sí.</h3>"
   ]
  },
  {
   "cell_type": "code",
   "execution_count": null,
   "id": "43e0274d-a180-4eef-aa5d-bc0319a1bd9b",
   "metadata": {},
   "outputs": [],
   "source": [
    "sns.heatmap(df_customer.corr(numeric_only=True), annot=True, cmap=\"coolwarm\")"
   ]
  },
  {
   "cell_type": "markdown",
   "id": "695d87e0-9fad-4945-92c0-b5e72addeac3",
   "metadata": {},
   "source": [
    "<b>Existe una relación significativa entre el ingreso de una persona y su gasto. Además, se observa una fuerte correlación entre la edad y la puntuación de satisfacción. Por otro lado, el uso de promociones muestra una relación moderada con el nivel de ingreso</b>"
   ]
  },
  {
   "cell_type": "markdown",
   "id": "3783a015-6db3-46a8-8013-35c0559fe232",
   "metadata": {},
   "source": [
    "<h3>Discretización de la variable 'age'</h3>"
   ]
  },
  {
   "cell_type": "code",
   "execution_count": null,
   "id": "b2b55759-5516-41b2-9b91-52878212eea2",
   "metadata": {},
   "outputs": [],
   "source": [
    "bins = [18, 24, 35, 49, 100] \n",
    "labels = ['18-24', '25-35', '36-49', '50+']\n",
    "\n",
    "# Crear la columna 'age_group' con los grupos etarios definidos\n",
    "df_customer['age_group'] = pd.cut(df_customer['age'], bins=bins, labels=labels, right=False)\n",
    "\n",
    "# Verificar los primeros registros con la nueva columna 'age_group'\n",
    "df_customer[['age', 'age_group']].head()"
   ]
  },
  {
   "cell_type": "code",
   "execution_count": null,
   "id": "c72fd781-c95a-4164-b1d8-fc94b9d06f13",
   "metadata": {},
   "outputs": [],
   "source": [
    "# Agrupamos y calculamos\n",
    "counts_age_group = df_customer.groupby(['age_group', 'product_category']).size().reset_index(name='count')\n",
    "totals_age_group = counts_age_group.groupby('age_group')['count'].transform('sum')\n",
    "counts_age_group['proportion'] = counts_age_group['count'] / totals_age_group\n",
    "\n",
    "print(counts_age_group)"
   ]
  },
  {
   "cell_type": "code",
   "execution_count": null,
   "id": "07c5504d-29a2-4a35-a465-f46845bab3fb",
   "metadata": {},
   "outputs": [],
   "source": [
    "plt.figure(figsize=(10, 6))\n",
    "sns.barplot(data=counts_age_group, x='age_group', y='count', hue='product_category')\n",
    "\n",
    "plt.title('Distribución de categorías de productos por grupo etario')\n",
    "plt.xlabel('Grupo Etario')\n",
    "plt.ylabel('Frecuencia de compras')\n",
    "plt.xticks(rotation=45)\n",
    "plt.legend(title='Categoría de Producto')\n",
    "\n",
    "plt.show()"
   ]
  },
  {
   "cell_type": "markdown",
   "id": "72bfe207-9f9c-4c68-bef0-7e8d2bb4265d",
   "metadata": {},
   "source": [
    "<h4>Conclusiones y Análisis final:</h4>\n",
    "\n",
    "<b>Grupo etario: 18 - 24 años</b>\n",
    "<p>La categoría más comprada por este grupo es Electrónica, seguida de Ropa.</p>\n",
    "<p>Beauty (cosméticos) es la categoría con la menor preferencia en este grupo etario.</p>\n",
    "\n",
    "<b>Grupo etario: 25 - 35 años</b>\n",
    "<p>Al igual que el grupo anterior, Electrónica es la categoría más comprada, seguida de Ropa.</p>\n",
    "<p>Beauty sigue siendo la categoría menos elegida en este grupo, aunque ha experimentado un pequeño aumento en comparación con el grupo anterior.</p>\n",
    "\n",
    "<b>Grupo etario: 36 - 49 años</b>\n",
    "<p>Electrónica es la categoría con mayor compra, seguida de Ropa.</p>\n",
    "<p>Home es la categoría menos comprada, y se ha visto una disminución de compra en comparación con el grupo etario anterior.</p>\n",
    "\n",
    "<b>Grupo Etario: 50+ años</b>\n",
    "<p>Este grupo mostró pocos datos representativos, con solo una compra en Food.</p>"
   ]
  },
  {
   "cell_type": "markdown",
   "id": "6592c25f-3029-4dba-9cbb-97761f36fea8",
   "metadata": {},
   "source": [
    "<ul>\n",
    "<li>Electrónica es la categoría más comprada en todos los grupos etarios, mostrando una fuerte preferencia por productos tecnológicos a lo largo de las edades.</li>\n",
    "<li>Ropa sigue siendo una categoría relevante, especialmente entre los grupos de menor edad (18-24 y 25-35), donde se encuentra en la segunda posición en cuanto a compras.</li>\n",
    "<li>Por otro lado, Beauty (cosméticos) y Home tienen una baja preferencia generalizada, apareciendo en los últimos lugares en términos de compra en todos los grupos etarios.</li>\n",
    "</ul>"
   ]
  },
  {
   "cell_type": "markdown",
   "id": "f693b0f9-1535-48c4-9d5a-101d1a7a3e69",
   "metadata": {},
   "source": [
    "<p>Aunque el objetivo principal de este análisis era detectar qué productos son los más comprados por ciertos grupos etarios, se optó por explorar todas las columnas del dataset en primer lugar. Esta estrategia permitió obtener una comprensión más profunda de los datos y sus relaciones, lo cual no solo aporta valor al análisis actual, sino que también abre la puerta a futuros estudios.</p>"
   ]
  },
  {
   "cell_type": "code",
   "execution_count": null,
   "id": "7b89c8f3-47bd-466d-9873-8ac7458aa755",
   "metadata": {},
   "outputs": [],
   "source": []
  }
 ],
 "metadata": {
  "kernelspec": {
   "display_name": "Python [conda env:base] *",
   "language": "python",
   "name": "conda-base-py"
  },
  "language_info": {
   "codemirror_mode": {
    "name": "ipython",
    "version": 3
   },
   "file_extension": ".py",
   "mimetype": "text/x-python",
   "name": "python",
   "nbconvert_exporter": "python",
   "pygments_lexer": "ipython3",
   "version": "3.12.7"
  }
 },
 "nbformat": 4,
 "nbformat_minor": 5
}
